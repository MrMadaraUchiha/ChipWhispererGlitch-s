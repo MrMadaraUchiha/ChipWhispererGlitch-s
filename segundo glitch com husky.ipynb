{
 "cells": [
  {
   "cell_type": "code",
   "execution_count": 1,
   "id": "b1c6dc7a",
   "metadata": {},
   "outputs": [],
   "source": [
    "SCOPE=\"OPENADC\"\n",
    "PLATFORM=\"CWHUSKY\""
   ]
  },
  {
   "cell_type": "code",
   "execution_count": 2,
   "id": "52afdae7",
   "metadata": {},
   "outputs": [],
   "source": [
    "import chipwhisperer as cw\n",
    "scope = cw.scope(name='Husky')"
   ]
  },
  {
   "cell_type": "code",
   "execution_count": 3,
   "id": "d0e0ad19",
   "metadata": {},
   "outputs": [
    {
     "name": "stdout",
     "output_type": "stream",
     "text": [
      "INFO: Found ChipWhisperer😍\n"
     ]
    }
   ],
   "source": [
    "%run \"../chipwhisperer/jupyter/Setup_Scripts/Setup_Generic.ipynb\""
   ]
  },
  {
   "cell_type": "code",
   "execution_count": 4,
   "id": "543eefe3",
   "metadata": {},
   "outputs": [],
   "source": [
    "scope.clock.clkgen_src = 'system'\n",
    "scope.clock.clkgen_freq = 10e6\n",
    "scope.clock.adc_mul = 1\n",
    "\n",
    "scope.adc.basic_mode = \"rising_edge\"\n",
    "\n",
    "scope.trigger.triggers = \"tio4\"\n",
    "scope.io.hs2 = \"clkgen\""
   ]
  },
  {
   "cell_type": "code",
   "execution_count": 59,
   "id": "909cfb87",
   "metadata": {},
   "outputs": [],
   "source": [
    "scope.glitch.enabled = True\n",
    "scope.glitch.clk_src = 'pll'\n",
    "scope.clock.pll.update_fpga_vco(1200e6)\n",
    "scope.glitch.output = \"enable_only\"\n",
    "scope.glitch.trigger_src = 'manual'\n",
    "scope.io.glitch_hp = True"
   ]
  },
  {
   "cell_type": "code",
   "execution_count": 64,
   "id": "3fbfca69",
   "metadata": {},
   "outputs": [],
   "source": [
    "x = 1\n",
    "\n",
    "for i in range(6000,8192):\n",
    " scope.glitch.repeat = x\n",
    " scope.glitch.manual_trigger()\n",
    " x = x + 1"
   ]
  },
  {
   "cell_type": "code",
   "execution_count": null,
   "id": "f8a322f8",
   "metadata": {},
   "outputs": [],
   "source": []
  },
  {
   "cell_type": "code",
   "execution_count": 65,
   "id": "fdf1a2b7",
   "metadata": {},
   "outputs": [],
   "source": [
    "scope.LA.enabled = False\n",
    "scope.glitch.enabled = False"
   ]
  },
  {
   "cell_type": "code",
   "execution_count": null,
   "id": "a1e5432d",
   "metadata": {},
   "outputs": [],
   "source": []
  }
 ],
 "metadata": {
  "kernelspec": {
   "display_name": "Python 3 (ipykernel)",
   "language": "python",
   "name": "python3"
  },
  "language_info": {
   "codemirror_mode": {
    "name": "ipython",
    "version": 3
   },
   "file_extension": ".py",
   "mimetype": "text/x-python",
   "name": "python",
   "nbconvert_exporter": "python",
   "pygments_lexer": "ipython3",
   "version": "3.7.7"
  }
 },
 "nbformat": 4,
 "nbformat_minor": 5
}
