{
 "cells": [
  {
   "cell_type": "code",
   "execution_count": 1,
   "id": "8297638e",
   "metadata": {},
   "outputs": [],
   "source": [
    "SCOPE=\"OPENADC\"\n",
    "PLATFORM=\"CWHUSKY\""
   ]
  },
  {
   "cell_type": "code",
   "execution_count": 2,
   "id": "9969b135",
   "metadata": {},
   "outputs": [],
   "source": [
    "import chipwhisperer as cw\n",
    "scope = cw.scope(name='Husky')"
   ]
  },
  {
   "cell_type": "code",
   "execution_count": 3,
   "id": "71b8966c",
   "metadata": {},
   "outputs": [
    {
     "name": "stdout",
     "output_type": "stream",
     "text": [
      "INFO: Found ChipWhisperer😍\n"
     ]
    }
   ],
   "source": [
    "%run \"../chipwhisperer/jupyter/Setup_Scripts/Setup_Generic.ipynb\""
   ]
  },
  {
   "cell_type": "code",
   "execution_count": 4,
   "id": "43c6277c",
   "metadata": {},
   "outputs": [],
   "source": [
    "scope.clock.clkgen_src = 'system'\n",
    "scope.clock.clkgen_freq = 10e6\n",
    "scope.clock.adc_mul = 1\n",
    "\n",
    "scope.adc.basic_mode = \"rising_edge\"\n",
    "\n",
    "scope.trigger.triggers = \"tio4\"\n",
    "scope.io.hs2 = \"clkgen\""
   ]
  },
  {
   "cell_type": "code",
   "execution_count": 5,
   "id": "b594f313",
   "metadata": {},
   "outputs": [],
   "source": [
    "scope.glitch.enabled = True\n",
    "scope.glitch.clk_src = 'pll'\n",
    "scope.clock.pll.update_fpga_vco(600e6)\n",
    "scope.glitch.output = \"enable_only\"\n",
    "scope.glitch.trigger_src = 'manual'\n",
    "scope.io.glitch_hp = True"
   ]
  },
  {
   "cell_type": "code",
   "execution_count": 287,
   "id": "b3abb161",
   "metadata": {},
   "outputs": [],
   "source": [
    "scope.glitch.repeat = 8192 #1000 ciclos de clock em 100 mhz\n",
    "scope.glitch.manual_trigger()\n",
    "scope.glitch.manual_trigger()\n",
    "scope.glitch.manual_trigger()\n",
    "scope.glitch.manual_trigger()\n",
    "scope.glitch.manual_trigger()\n",
    "scope.glitch.manual_trigger()\n",
    "scope.glitch.manual_trigger()\n",
    "scope.glitch.manual_trigger()\n"
   ]
  },
  {
   "cell_type": "code",
   "execution_count": null,
   "id": "4d1eadf3",
   "metadata": {},
   "outputs": [],
   "source": []
  },
  {
   "cell_type": "code",
   "execution_count": null,
   "id": "edf3efb6",
   "metadata": {},
   "outputs": [],
   "source": []
  }
 ],
 "metadata": {
  "kernelspec": {
   "display_name": "Python 3 (ipykernel)",
   "language": "python",
   "name": "python3"
  },
  "language_info": {
   "codemirror_mode": {
    "name": "ipython",
    "version": 3
   },
   "file_extension": ".py",
   "mimetype": "text/x-python",
   "name": "python",
   "nbconvert_exporter": "python",
   "pygments_lexer": "ipython3",
   "version": "3.7.7"
  }
 },
 "nbformat": 4,
 "nbformat_minor": 5
}
